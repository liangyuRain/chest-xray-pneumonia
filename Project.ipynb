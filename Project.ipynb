{
 "cells": [
  {
   "cell_type": "heading",
   "metadata": {
    "id": "view-in-github",
    "colab_type": "text"
   },
   "level": 1,
   "source": [
    "# <a href=\"https://colab.research.google.com/github/liangyuRain/chest-xray-pneumonia/blob/master/Project.ipynb\" target=\"_parent\"><img src=\"https://colab.research.google.com/assets/colab-badge.svg\" alt=\"Open In Colab\"/></a>"
   ]
  },
  {
   "cell_type": "code",
   "execution_count": 1,
   "metadata": {
    "id": "PKvGKkt-K4Nh",
    "colab_type": "code",
    "colab": {}
   },
   "outputs": [],
   "source": [
    "import torch\n",
    "import torch.nn as nn\n",
    "import numpy as np\n",
    "import os\n",
    "\n",
    "import torch.nn.functional as F\n",
    "import torch.optim as optim\n",
    "import torchvision\n",
    "from torchvision import datasets, transforms\n",
    "\n",
    "import torch.utils.data\n"
   ]
  },
  {
   "cell_type": "code",
   "execution_count": 13,
   "metadata": {
    "id": "A97g7cj6KeXy",
    "colab_type": "code",
    "colab": {}
   },
   "outputs": [],
   "source": [
    "def train(model, device, train_loader, optimizer, epoch, log_interval):\n",
    "    model.train()\n",
    "    losses = []\n",
    "    for batch_idx, (data, label) in enumerate(train_loader):\n",
    "        data, label = data.to(device), label.to(device)\n",
    "        optimizer.zero_grad()\n",
    "        \n",
    "        output = model(data)\n",
    "        loss = model.loss(output, label)\n",
    "        losses.append(loss.item())\n",
    "        loss.backward()\n",
    "        \n",
    "        optimizer.step()\n",
    "        if batch_idx % log_interval == 0:\n",
    "            print('Train Epoch: {} [{}/{} ({:.0f}%)]\\tLoss: {:.6f}'.format(\n",
    "                epoch, batch_idx * len(data), len(train_loader.dataset),\n",
    "                100. * batch_idx / len(train_loader), loss.item()))\n",
    "    return np.mean(losses)\n",
    "\n",
    "\n",
    "def test(model, device, test_loader):\n",
    "    model.eval()\n",
    "    test_loss = 0\n",
    "    correct = 0\n",
    "    with torch.no_grad():\n",
    "        for data, label in test_loader:\n",
    "            data, label = data.to(device), label.to(device)\n",
    "            output = model(data)\n",
    "            test_loss += model.loss(output, label, reduction='sum').item()\n",
    "            pred = output.max(1, keepdim=True)[1]\n",
    "            correct += pred.eq(label.view_as(pred)).sum().item()\n",
    "\n",
    "    test_loss /= len(test_loader.dataset)\n",
    "    test_accuracy = 100. * correct / (len(test_loader.dataset) * test_loader.dataset.sequence_length)\n",
    "    \n",
    "    print('\\nTest set: Average loss: {:.4f}, Accuracy: {}/{} ({:.0f}%)\\n'.format(\n",
    "        test_loss, correct, len(test_loader.dataset),\n",
    "        100. * correct / len(test_loader.dataset)))\n",
    "    return test_loss, test_accuracy\n"
   ]
  },
  {
   "cell_type": "code",
   "execution_count": 3,
   "metadata": {
    "id": "h7WES5jFLh3S",
    "colab_type": "code",
    "colab": {}
   },
   "outputs": [],
   "source": [
    "LR = 0.9\n",
    "WEIGHT_DECAY = 0.0001\n",
    "MOMENTUM = 0.9\n",
    "EPOCHS = 5000\n",
    "BATCH_SIZE = 16\n",
    "USE_CUDA = True\n",
    "SEED = 0\n",
    "LOG_INTERVAL = 100\n"
   ]
  },
  {
   "cell_type": "code",
   "execution_count": 4,
   "metadata": {},
   "outputs": [
    {
     "name": "stdout",
     "output_type": "stream",
     "text": [
      "Using device cuda\nnum cpus: 8\n"
     ]
    }
   ],
   "source": [
    "use_cuda = USE_CUDA and torch.cuda.is_available()\n",
    "torch.manual_seed(SEED)\n",
    "device = torch.device(\"cuda\" if use_cuda else \"cpu\")\n",
    "print('Using device', device)\n",
    "\n",
    "import multiprocessing\n",
    "print('num cpus:', multiprocessing.cpu_count())\n",
    "kwargs = {'num_workers': multiprocessing.cpu_count(),\n",
    "          'pin_memory': True} if use_cuda else {}\n"
   ]
  },
  {
   "cell_type": "code",
   "execution_count": 14,
   "metadata": {
    "id": "pb70LVxDLBHo",
    "colab_type": "code",
    "colab": {}
   },
   "outputs": [],
   "source": [
    "model_conv = torchvision.models.resnet18(pretrained=True)\n",
    "\n",
    "# avoid training pretrained model\n",
    "for param in model_conv.parameters():\n",
    "    param.requires_grad = False\n",
    "\n",
    "# set categories to 2\n",
    "num_ftrs = model_conv.fc.in_features\n",
    "model_conv.fc = nn.Linear(num_ftrs, 2)\n",
    "\n",
    "model_conv = model_conv.to(device)\n",
    "\n",
    "criterion = nn.CrossEntropyLoss()\n",
    "optimizer = optim.SGD(model_conv.fc.parameters(), \n",
    "                      lr=LR, \n",
    "                      momentum=MOMENTUM, \n",
    "                      weight_decay=WEIGHT_DECAY)\n",
    "\n",
    "model_conv.loss = criterion\n"
   ]
  },
  {
   "cell_type": "code",
   "execution_count": 9,
   "metadata": {},
   "outputs": [],
   "source": [
    "INPUT_SIZE = (224, 224)\n",
    "\n",
    "\n",
    "class ImageLoader(object):\n",
    "\n",
    "    def __init__(self, batchSize):\n",
    "        super(ImageLoader, self).__init__()\n",
    "        transform_train = transforms.Compose([\n",
    "            transforms.Resize(size=INPUT_SIZE),\n",
    "            transforms.RandomHorizontalFlip(),\n",
    "            transforms.ToTensor(),\n",
    "            transforms.Normalize((0.5, 0.5, 0.5), (0.5, 0.5, 0.5))\n",
    "        ])\n",
    "\n",
    "        transform_test = transforms.Compose([\n",
    "            transforms.Resize(size=INPUT_SIZE),\n",
    "            transforms.ToTensor(),\n",
    "            transforms.Normalize((0.5, 0.5, 0.5), (0.5, 0.5, 0.5))\n",
    "        ])\n",
    "\n",
    "        train_dataset = datasets.ImageFolder(root='chest_xray_dataset/train',\n",
    "                                             transform=transform_train)\n",
    "        self.trainloader = torch.utils.data.DataLoader(train_dataset,\n",
    "                                                       batch_size=batchSize,\n",
    "                                                       shuffle=True,\n",
    "                                                       num_workers=2)\n",
    "\n",
    "        test_dataset = datasets.ImageFolder(root='chest_xray_dataset/test',\n",
    "                                            transform=transform_test)\n",
    "        self.testloader = torch.utils.data.DataLoader(test_dataset,\n",
    "                                                      batch_size=batchSize,\n",
    "                                                      shuffle=False,\n",
    "                                                      num_workers=2)\n",
    "\n",
    "        self.classes = ('normal', 'pneumonia')\n"
   ]
  },
  {
   "cell_type": "code",
   "execution_count": 12,
   "metadata": {
    "id": "2snFQSAWMzpH",
    "colab_type": "code",
    "colab": {}
   },
   "outputs": [
    {
     "name": "stdout",
     "output_type": "stream",
     "text": [
      "Train Epoch: 0 [0/5216 (0%)]\tLoss: 0.776940\n"
     ]
    },
    {
     "name": "stdout",
     "output_type": "stream",
     "text": [
      "Train Epoch: 0 [1600/5216 (31%)]\tLoss: 53.463085\n"
     ]
    },
    {
     "name": "stdout",
     "output_type": "stream",
     "text": [
      "Train Epoch: 0 [3200/5216 (61%)]\tLoss: 4.222226\n"
     ]
    },
    {
     "name": "stdout",
     "output_type": "stream",
     "text": [
      "Train Epoch: 0 [4800/5216 (92%)]\tLoss: 13.006910\n"
     ]
    },
    {
     "name": "stderr",
     "output_type": "stream",
     "text": [
      "Traceback (most recent call last):\n  File \"<ipython-input-12-1f7be6a7b070>\", line 6, in <module>\n    test(model_conv, device, loader.testloader)\n  File \"<ipython-input-11-d95dfd37421f>\", line 30, in test\n    test_loss += model.loss(output, label, reduction='sum').item()\n  File \"/home/liangyu/.local/lib/python3.6/site-packages/torch/nn/modules/module.py\", line 532, in __getattr__\n    type(self).__name__, name))\nAttributeError: 'ResNet' object has no attribute 'loss'\n"
     ]
    }
   ],
   "source": [
    "loader = ImageLoader(batchSize=BATCH_SIZE)\n",
    "\n",
    "try:\n",
    "    for epoch in range(EPOCHS + 1):\n",
    "        train(model_conv, device, loader.trainloader, optimizer, epoch, LOG_INTERVAL)\n",
    "        test(model_conv, device, loader.testloader)\n",
    "except KeyboardInterrupt as ke:\n",
    "    print('Interrupted')\n",
    "except:\n",
    "    import traceback\n",
    "    traceback.print_exc()\n",
    "finally:\n",
    "    pass\n"
   ]
  },
  {
   "cell_type": "code",
   "execution_count": null,
   "metadata": {},
   "outputs": [],
   "source": []
  }
 ],
 "metadata": {
  "colab": {
   "name": "Project.ipynb",
   "version": "0.3.2",
   "provenance": [],
   "collapsed_sections": [],
   "include_colab_link": true
  },
  "kernelspec": {
   "name": "python3",
   "display_name": "Python 3"
  }
 },
 "nbformat": 4,
 "nbformat_minor": 0
}
